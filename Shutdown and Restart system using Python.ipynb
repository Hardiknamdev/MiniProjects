{
 "cells": [
  {
   "cell_type": "markdown",
   "id": "6ef2c7e7",
   "metadata": {},
   "source": [
    "# Shutdown and  Restart your System using Python."
   ]
  },
  {
   "cell_type": "code",
   "execution_count": 1,
   "id": "83ff7c36",
   "metadata": {},
   "outputs": [],
   "source": [
    "# importing libraries and modules\n",
    "\n",
    "from tkinter import *\n",
    "import os"
   ]
  },
  {
   "cell_type": "code",
   "execution_count": 2,
   "id": "c52dd197",
   "metadata": {},
   "outputs": [],
   "source": [
    "# user define function\n",
    "\n",
    "def shutdown():\n",
    "\treturn os.system(\"shutdown /s /t 1\")\n",
    "\n",
    "def restart():\n",
    "\treturn os.system(\"shutdown /r /t 1\")\n",
    "\n",
    "\n",
    "# tkinter object\n",
    "master = Tk()\n",
    "\n",
    "# background set to grey\n",
    "master.configure(bg='dark grey')\n",
    "\n",
    "# creating a button using the widget\n",
    "# Buttons that will call the submit function\n",
    "\n",
    "Button(master, text=\"Shutdown\", command=shutdown).grid(row=0)\n",
    "Button(master, text=\"Restart\", command=restart).grid(row=1)\n",
    "\n",
    "master.geometry(\"150x150+100+100\")\n",
    "\n",
    "master.mainloop()\n",
    "\n"
   ]
  },
  {
   "cell_type": "code",
   "execution_count": null,
   "id": "692eceb9",
   "metadata": {},
   "outputs": [],
   "source": []
  }
 ],
 "metadata": {
  "kernelspec": {
   "display_name": "Python 3 (ipykernel)",
   "language": "python",
   "name": "python3"
  },
  "language_info": {
   "codemirror_mode": {
    "name": "ipython",
    "version": 3
   },
   "file_extension": ".py",
   "mimetype": "text/x-python",
   "name": "python",
   "nbconvert_exporter": "python",
   "pygments_lexer": "ipython3",
   "version": "3.9.6"
  }
 },
 "nbformat": 4,
 "nbformat_minor": 5
}
