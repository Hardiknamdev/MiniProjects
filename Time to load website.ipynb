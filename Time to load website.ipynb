{
 "cells": [
  {
   "cell_type": "code",
   "execution_count": 13,
   "id": "bd7dd736",
   "metadata": {},
   "outputs": [
    {
     "name": "stdout",
     "output_type": "stream",
     "text": [
      "Load Time: 3.2775118350982666 sec\n",
      "******************************\n",
      "Load Time(Roundoff): 3.278 sec\n"
     ]
    }
   ],
   "source": [
    "# importing required libraries.\n",
    "\n",
    "import urllib.request\n",
    "from time import time\n",
    "\n",
    "stream = urllib.request.urlopen('https://www.youtube.com/')\n",
    "start_time = time()\n",
    "output = stream.read()\n",
    "end_time = time()\n",
    "stream.close()\n",
    "\n",
    "print(\"Load Time:\",end_time - start_time, \"sec\")\n",
    "print('*'*30)\n",
    "print(\"Load Time(Roundoff):\",round(end_time - start_time, 3), \"sec\")\n"
   ]
  },
  {
   "cell_type": "code",
   "execution_count": null,
   "id": "37bf4afe",
   "metadata": {},
   "outputs": [],
   "source": []
  },
  {
   "cell_type": "code",
   "execution_count": null,
   "id": "cecf89c8",
   "metadata": {},
   "outputs": [],
   "source": []
  }
 ],
 "metadata": {
  "kernelspec": {
   "display_name": "Python 3 (ipykernel)",
   "language": "python",
   "name": "python3"
  },
  "language_info": {
   "codemirror_mode": {
    "name": "ipython",
    "version": 3
   },
   "file_extension": ".py",
   "mimetype": "text/x-python",
   "name": "python",
   "nbconvert_exporter": "python",
   "pygments_lexer": "ipython3",
   "version": "3.9.6"
  }
 },
 "nbformat": 4,
 "nbformat_minor": 5
}
